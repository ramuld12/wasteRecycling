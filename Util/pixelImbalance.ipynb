{
 "cells": [
  {
   "cell_type": "markdown",
   "metadata": {
    "id": "EEQ7OARBry6Q"
   },
   "source": [
    "# Setup"
   ]
  },
  {
   "cell_type": "markdown",
   "metadata": {
    "id": "x3KK81jpsARc"
   },
   "source": [
    "### Mount Drive"
   ]
  },
  {
   "cell_type": "code",
   "execution_count": 3,
   "metadata": {
    "colab": {
     "base_uri": "https://localhost:8080/"
    },
    "executionInfo": {
     "elapsed": 18457,
     "status": "ok",
     "timestamp": 1701260500454,
     "user": {
      "displayName": "Rasmus Herskind",
      "userId": "06822620470181382868"
     },
     "user_tz": -60
    },
    "id": "M0h6-zIhr2iL",
    "outputId": "96c66460-80ac-4314-e472-d5908bdf72c9"
   },
   "outputs": [
    {
     "name": "stdout",
     "output_type": "stream",
     "text": [
      "Mounted at /content/gdrive\n"
     ]
    }
   ],
   "source": [
    "from google.colab import drive\n",
    "drive.mount('/content/gdrive',force_remount=True)"
   ]
  },
  {
   "cell_type": "markdown",
   "metadata": {
    "id": "bVuCT827sOSz"
   },
   "source": [
    "### Path to training data on drive"
   ]
  },
  {
   "cell_type": "code",
   "execution_count": 4,
   "metadata": {
    "executionInfo": {
     "elapsed": 3,
     "status": "ok",
     "timestamp": 1701260500454,
     "user": {
      "displayName": "Rasmus Herskind",
      "userId": "06822620470181382868"
     },
     "user_tz": -60
    },
    "id": "Ce20IWQRj9A3"
   },
   "outputs": [],
   "source": [
    "path_folder = \"/content/gdrive/My Drive/Colab Notebooks/Project/zerowaste-f-final/splits_final_deblurred/\""
   ]
  },
  {
   "cell_type": "markdown",
   "metadata": {
    "id": "6q8yWhWrspQr"
   },
   "source": [
    "### Imports"
   ]
  },
  {
   "cell_type": "code",
   "execution_count": 5,
   "metadata": {
    "executionInfo": {
     "elapsed": 4579,
     "status": "ok",
     "timestamp": 1701260525766,
     "user": {
      "displayName": "Rasmus Herskind",
      "userId": "06822620470181382868"
     },
     "user_tz": -60
    },
    "id": "MVE1vc_Qs18Z"
   },
   "outputs": [],
   "source": [
    "from __future__ import print_function\n",
    "import tensorflow as tf\n",
    "from tensorflow import keras\n",
    "from keras.datasets import mnist\n",
    "#import tensorflow.keras.backend as K\n",
    "from matplotlib import pyplot as plt\n",
    "from keras.models import Sequential\n",
    "from keras.layers import Dense, Flatten, Activation, concatenate, BatchNormalization\n",
    "import matplotlib.pyplot as plt\n",
    "import numpy as np\n",
    "from keras.activations import softmax\n",
    "from keras.layers import concatenate\n",
    "from keras.layers import UpSampling2D\n",
    "from keras.layers import Dropout\n",
    "from keras.layers import Conv2D, MaxPooling2D\n",
    "from keras.layers import Input\n",
    "from keras.models import Model\n",
    "import sys\n",
    "import cv2\n",
    "sys.path.append(\"/content/gdrive/My Drive/Colab Notebooks/Project/\")\n",
    "\n",
    "import os\n",
    "from PIL import Image"
   ]
  },
  {
   "cell_type": "code",
   "execution_count": 6,
   "metadata": {
    "executionInfo": {
     "elapsed": 248,
     "status": "ok",
     "timestamp": 1701260529675,
     "user": {
      "displayName": "Rasmus Herskind",
      "userId": "06822620470181382868"
     },
     "user_tz": -60
    },
    "id": "W2cRjeCYs12y"
   },
   "outputs": [],
   "source": [
    "def load_data_for_split(split='data', amount_to_load=100, load_from_image=0):\n",
    "    file_path = path_folder + split + \"/\"\n",
    "    data = []\n",
    "\n",
    "    if not os.path.exists(file_path):\n",
    "        print(f\"Error: The specified path '{file_path}' does not exist.\")\n",
    "        return None\n",
    "\n",
    "    # List all files in the directory\n",
    "    file_list = sorted(os.listdir(file_path))\n",
    "    file_list = file_list[load_from_image:load_from_image + amount_to_load]\n",
    "\n",
    "    for i, file_name in enumerate(file_list):\n",
    "        if i >= amount_to_load:\n",
    "            break\n",
    "\n",
    "        image_path = os.path.join(file_path, file_name)\n",
    "        try:\n",
    "            # Open and load the image\n",
    "            img = Image.open(image_path)\n",
    "            data.append(np.array(img))\n",
    "            if i%100==0 or i==amount_to_load-1:\n",
    "              print(f\"Loaded image number {load_from_image + i}: {image_path}\")\n",
    "        except Exception as e:\n",
    "            print(f\"Error loading {image_path}: {str(e)}\")\n",
    "    data = np.array(data)\n",
    "    return data\n",
    "\n",
    "def percentage_pixel_imbalance_for_images(labels):\n",
    "    total_pixels = np.sum(labels[0] >= 0) *  len(labels)\n",
    "    total_percentages  = {\n",
    "        'background': 0,\n",
    "        'rigid_plastic': 0,\n",
    "        'cardboard': 0,\n",
    "        'metal': 0,\n",
    "        'soft_plastic': 0\n",
    "    }\n",
    "\n",
    "    for label in labels:\n",
    "        total_percentages['background'] += np.sum(label == 0)\n",
    "        total_percentages['rigid_plastic'] += np.sum(label == 1)\n",
    "        total_percentages['cardboard'] += np.sum(label == 2)\n",
    "        total_percentages['metal'] += np.sum(label == 3)\n",
    "        total_percentages['soft_plastic'] += np.sum(label == 4)\n",
    "\n",
    "    for class_name in total_percentages:\n",
    "        total_percentages[class_name] /= total_pixels\n",
    "        total_percentages[class_name] *= 100\n",
    "        total_percentages[class_name] = np.round(total_percentages[class_name], 2)\n",
    "\n",
    "    return total_percentages\n"
   ]
  },
  {
   "cell_type": "code",
   "execution_count": 7,
   "metadata": {
    "colab": {
     "base_uri": "https://localhost:8080/"
    },
    "executionInfo": {
     "elapsed": 162900,
     "status": "ok",
     "timestamp": 1701260701083,
     "user": {
      "displayName": "Rasmus Herskind",
      "userId": "06822620470181382868"
     },
     "user_tz": -60
    },
    "id": "J1OdfHK0tMw8",
    "outputId": "9631a4df-40c8-4a9a-d509-d1c24b76d18c"
   },
   "outputs": [
    {
     "name": "stdout",
     "output_type": "stream",
     "text": [
      "Loaded image number 0: /content/gdrive/My Drive/Colab Notebooks/Project/zerowaste-f-final/splits_final_deblurred/train/sem_seg/01_frame_001160.PNG\n",
      "Loaded image number 100: /content/gdrive/My Drive/Colab Notebooks/Project/zerowaste-f-final/splits_final_deblurred/train/sem_seg/02_frame_001620.PNG\n",
      "Loaded image number 200: /content/gdrive/My Drive/Colab Notebooks/Project/zerowaste-f-final/splits_final_deblurred/train/sem_seg/03_frame_000611.PNG\n",
      "Loaded image number 300: /content/gdrive/My Drive/Colab Notebooks/Project/zerowaste-f-final/splits_final_deblurred/train/sem_seg/03_frame_001610.PNG\n",
      "Loaded image number 400: /content/gdrive/My Drive/Colab Notebooks/Project/zerowaste-f-final/splits_final_deblurred/train/sem_seg/04_frame_003600.PNG\n",
      "Loaded image number 500: /content/gdrive/My Drive/Colab Notebooks/Project/zerowaste-f-final/splits_final_deblurred/train/sem_seg/04_frame_029900.PNG\n",
      "Loaded image number 600: /content/gdrive/My Drive/Colab Notebooks/Project/zerowaste-f-final/splits_final_deblurred/train/sem_seg/04_frame_039900.PNG\n",
      "Loaded image number 700: /content/gdrive/My Drive/Colab Notebooks/Project/zerowaste-f-final/splits_final_deblurred/train/sem_seg/05_frame_005080.PNG\n",
      "Loaded image number 800: /content/gdrive/My Drive/Colab Notebooks/Project/zerowaste-f-final/splits_final_deblurred/train/sem_seg/05_frame_024700.PNG\n",
      "Loaded image number 900: /content/gdrive/My Drive/Colab Notebooks/Project/zerowaste-f-final/splits_final_deblurred/train/sem_seg/05_frame_034700.PNG\n",
      "Loaded image number 1000: /content/gdrive/My Drive/Colab Notebooks/Project/zerowaste-f-final/splits_final_deblurred/train/sem_seg/05_frame_044700.PNG\n",
      "Loaded image number 1100: /content/gdrive/My Drive/Colab Notebooks/Project/zerowaste-f-final/splits_final_deblurred/train/sem_seg/06_frame_000561.PNG\n",
      "Loaded image number 1200: /content/gdrive/My Drive/Colab Notebooks/Project/zerowaste-f-final/splits_final_deblurred/train/sem_seg/06_frame_029600.PNG\n",
      "Loaded image number 1300: /content/gdrive/My Drive/Colab Notebooks/Project/zerowaste-f-final/splits_final_deblurred/train/sem_seg/06_frame_039600.PNG\n",
      "Loaded image number 1400: /content/gdrive/My Drive/Colab Notebooks/Project/zerowaste-f-final/splits_final_deblurred/train/sem_seg/07_frame_000051.PNG\n",
      "Loaded image number 1499: /content/gdrive/My Drive/Colab Notebooks/Project/zerowaste-f-final/splits_final_deblurred/train/sem_seg/07_frame_024400.PNG\n",
      "Loaded image number 1500: /content/gdrive/My Drive/Colab Notebooks/Project/zerowaste-f-final/splits_final_deblurred/train/sem_seg/07_frame_024500.PNG\n",
      "Loaded image number 1600: /content/gdrive/My Drive/Colab Notebooks/Project/zerowaste-f-final/splits_final_deblurred/train/sem_seg/07_frame_034500.PNG\n",
      "Loaded image number 1700: /content/gdrive/My Drive/Colab Notebooks/Project/zerowaste-f-final/splits_final_deblurred/train/sem_seg/07_frame_044500.PNG\n",
      "Loaded image number 1800: /content/gdrive/My Drive/Colab Notebooks/Project/zerowaste-f-final/splits_final_deblurred/train/sem_seg/09_frame_001540.PNG\n",
      "Loaded image number 1900: /content/gdrive/My Drive/Colab Notebooks/Project/zerowaste-f-final/splits_final_deblurred/train/sem_seg/09_frame_002530.PNG\n",
      "Loaded image number 2000: /content/gdrive/My Drive/Colab Notebooks/Project/zerowaste-f-final/splits_final_deblurred/train/sem_seg/09_frame_029200.PNG\n",
      "Loaded image number 2100: /content/gdrive/My Drive/Colab Notebooks/Project/zerowaste-f-final/splits_final_deblurred/train/sem_seg/09_frame_039200.PNG\n",
      "Loaded image number 2200: /content/gdrive/My Drive/Colab Notebooks/Project/zerowaste-f-final/splits_final_deblurred/train/sem_seg/10_frame_005100.PNG\n",
      "Loaded image number 2300: /content/gdrive/My Drive/Colab Notebooks/Project/zerowaste-f-final/splits_final_deblurred/train/sem_seg/10_frame_015100.PNG\n",
      "Loaded image number 2400: /content/gdrive/My Drive/Colab Notebooks/Project/zerowaste-f-final/splits_final_deblurred/train/sem_seg/10_frame_025100.PNG\n",
      "Loaded image number 2500: /content/gdrive/My Drive/Colab Notebooks/Project/zerowaste-f-final/splits_final_deblurred/train/sem_seg/10_frame_035000.PNG\n",
      "Loaded image number 2600: /content/gdrive/My Drive/Colab Notebooks/Project/zerowaste-f-final/splits_final_deblurred/train/sem_seg/10_frame_045000.PNG\n",
      "Loaded image number 2700: /content/gdrive/My Drive/Colab Notebooks/Project/zerowaste-f-final/splits_final_deblurred/train/sem_seg/10_frame_055000.PNG\n",
      "Loaded image number 2800: /content/gdrive/My Drive/Colab Notebooks/Project/zerowaste-f-final/splits_final_deblurred/train/sem_seg/11_frame_000991.PNG\n",
      "Loaded image number 2900: /content/gdrive/My Drive/Colab Notebooks/Project/zerowaste-f-final/splits_final_deblurred/train/sem_seg/12_frame_000991.PNG\n",
      "Loaded image number 3000: /content/gdrive/My Drive/Colab Notebooks/Project/zerowaste-f-final/splits_final_deblurred/train/sem_seg/12_frame_001990.PNG\n",
      "Loaded image number 3001: /content/gdrive/My Drive/Colab Notebooks/Project/zerowaste-f-final/splits_final_deblurred/train/sem_seg/12_frame_002000.PNG\n",
      "Loaded image number 0: /content/gdrive/My Drive/Colab Notebooks/Project/zerowaste-f-final/splits_final_deblurred/test/sem_seg/01_frame_000680.PNG\n",
      "Loaded image number 100: /content/gdrive/My Drive/Colab Notebooks/Project/zerowaste-f-final/splits_final_deblurred/test/sem_seg/01_frame_032900.PNG\n",
      "Loaded image number 200: /content/gdrive/My Drive/Colab Notebooks/Project/zerowaste-f-final/splits_final_deblurred/test/sem_seg/01_frame_042900.PNG\n",
      "Loaded image number 300: /content/gdrive/My Drive/Colab Notebooks/Project/zerowaste-f-final/splits_final_deblurred/test/sem_seg/03_frame_027800.PNG\n",
      "Loaded image number 400: /content/gdrive/My Drive/Colab Notebooks/Project/zerowaste-f-final/splits_final_deblurred/test/sem_seg/03_frame_037800.PNG\n",
      "Loaded image number 500: /content/gdrive/My Drive/Colab Notebooks/Project/zerowaste-f-final/splits_final_deblurred/test/sem_seg/03_frame_047800.PNG\n",
      "Loaded image number 600: /content/gdrive/My Drive/Colab Notebooks/Project/zerowaste-f-final/splits_final_deblurred/test/sem_seg/05_frame_000871.PNG\n",
      "Loaded image number 700: /content/gdrive/My Drive/Colab Notebooks/Project/zerowaste-f-final/splits_final_deblurred/test/sem_seg/08_frame_000871.PNG\n",
      "Loaded image number 800: /content/gdrive/My Drive/Colab Notebooks/Project/zerowaste-f-final/splits_final_deblurred/test/sem_seg/08_frame_009700.PNG\n",
      "Loaded image number 900: /content/gdrive/My Drive/Colab Notebooks/Project/zerowaste-f-final/splits_final_deblurred/test/sem_seg/09_frame_003720.PNG\n",
      "Loaded image number 0: /content/gdrive/My Drive/Colab Notebooks/Project/zerowaste-f-final/splits_final_deblurred/val/sem_seg/01_frame_000225.PNG\n",
      "Loaded image number 100: /content/gdrive/My Drive/Colab Notebooks/Project/zerowaste-f-final/splits_final_deblurred/val/sem_seg/01_frame_057400.PNG\n",
      "Loaded image number 200: /content/gdrive/My Drive/Colab Notebooks/Project/zerowaste-f-final/splits_final_deblurred/val/sem_seg/02_frame_000431.PNG\n",
      "Loaded image number 300: /content/gdrive/My Drive/Colab Notebooks/Project/zerowaste-f-final/splits_final_deblurred/val/sem_seg/03_frame_053300.PNG\n",
      "Loaded image number 400: /content/gdrive/My Drive/Colab Notebooks/Project/zerowaste-f-final/splits_final_deblurred/val/sem_seg/04_frame_000721.PNG\n",
      "Loaded image number 500: /content/gdrive/My Drive/Colab Notebooks/Project/zerowaste-f-final/splits_final_deblurred/val/sem_seg/10_frame_000711.PNG\n"
     ]
    }
   ],
   "source": [
    "loaded_train_labels = load_data_for_split('train/sem_seg', amount_to_load=1500, load_from_image=0)\n",
    "train_percentage1 = percentage_pixel_imbalance_for_images(loaded_train_labels)\n",
    "loaded_train_labels = load_data_for_split('train/sem_seg', amount_to_load=1502, load_from_image=1500)\n",
    "train_percentage2 = percentage_pixel_imbalance_for_images(loaded_train_labels)\n",
    "loaded_test_labels = load_data_for_split('test/sem_seg', 3500)\n",
    "loaded_val_labels = load_data_for_split('val/sem_seg', 3500)"
   ]
  },
  {
   "cell_type": "code",
   "execution_count": 8,
   "metadata": {
    "colab": {
     "base_uri": "https://localhost:8080/"
    },
    "executionInfo": {
     "elapsed": 18706,
     "status": "ok",
     "timestamp": 1701260719773,
     "user": {
      "displayName": "Rasmus Herskind",
      "userId": "06822620470181382868"
     },
     "user_tz": -60
    },
    "id": "N-PFuSsIv6SF",
    "outputId": "480c682b-8bbd-4e9d-b747-764f230cb0af"
   },
   "outputs": [
    {
     "name": "stdout",
     "output_type": "stream",
     "text": [
      "Train pixel imbalance\n",
      "{'background': 83.74, 'rigid_plastic': 0.63, 'cardboard': 10.36, 'metal': 0.09, 'soft_plastic': 5.17}\n",
      "\n",
      "Val pixel imbalance\n",
      "{'background': 81.28, 'rigid_plastic': 1.09, 'cardboard': 11.79, 'metal': 0.18, 'soft_plastic': 5.66}\n",
      "\n",
      "Test pixel imbalance\n",
      "{'background': 82.03, 'rigid_plastic': 0.79, 'cardboard': 11.38, 'metal': 0.07, 'soft_plastic': 5.74}\n",
      "\n",
      "Average pixel imbalance\n",
      "{'background': 82.35, 'rigid_plastic': 0.84, 'cardboard': 11.18, 'metal': 0.11, 'soft_plastic': 5.52}\n"
     ]
    }
   ],
   "source": [
    "train_percentage_final  = {\n",
    "        'background': 0,\n",
    "        'rigid_plastic': 0,\n",
    "        'cardboard': 0,\n",
    "        'metal': 0,\n",
    "        'soft_plastic': 0\n",
    "    }\n",
    "average_percentage_final  = {\n",
    "        'background': 0,\n",
    "        'rigid_plastic': 0,\n",
    "        'cardboard': 0,\n",
    "        'metal': 0,\n",
    "        'soft_plastic': 0\n",
    "    }\n",
    "\n",
    "\n",
    "print(\"Train pixel imbalance\")\n",
    "for class_name in train_percentage1:\n",
    "    train_percentage_final[class_name] = np.round((train_percentage1[class_name] + train_percentage2[class_name]) / 2, 2)\n",
    "print(train_percentage_final)\n",
    "\n",
    "print(\"\\nVal pixel imbalance\")\n",
    "val_percentage_final = percentage_pixel_imbalance_for_images(loaded_val_labels)\n",
    "print(val_percentage_final)\n",
    "\n",
    "print(\"\\nTest pixel imbalance\")\n",
    "test_percentage_final = percentage_pixel_imbalance_for_images(loaded_test_labels)\n",
    "print(test_percentage_final)\n",
    "\n",
    "print(\"\\nAverage pixel imbalance\")\n",
    "average_percentage_final = percentage_pixel_imbalance_for_images(loaded_val_labels)\n",
    "for class_name in train_percentage1:\n",
    "    average_percentage_final[class_name] = np.round((train_percentage_final[class_name] + val_percentage_final[class_name] + test_percentage_final[class_name]) / 3, 2)\n",
    "print(average_percentage_final)"
   ]
  }
 ],
 "metadata": {
  "colab": {
   "authorship_tag": "ABX9TyOt2unrNxbBVmlcxbBj1QaQ",
   "provenance": []
  },
  "kernelspec": {
   "display_name": "Python 3 (ipykernel)",
   "language": "python",
   "name": "python3"
  },
  "language_info": {
   "codemirror_mode": {
    "name": "ipython",
    "version": 3
   },
   "file_extension": ".py",
   "mimetype": "text/x-python",
   "name": "python",
   "nbconvert_exporter": "python",
   "pygments_lexer": "ipython3",
   "version": "3.7.16"
  }
 },
 "nbformat": 4,
 "nbformat_minor": 1
}
